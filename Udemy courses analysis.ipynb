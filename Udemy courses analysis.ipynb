{
 "cells": [
  {
   "cell_type": "markdown",
   "id": "1d4c29db-75d2-4da9-8710-d82412ce163e",
   "metadata": {},
   "source": [
    "IMPORTING LIBRARIES"
   ]
  },
  {
   "cell_type": "code",
   "execution_count": 27,
   "id": "94e40942-8a90-4f03-bda8-68fe1216516e",
   "metadata": {},
   "outputs": [],
   "source": [
    "import pandas as pd\n",
    "import matplotlib.pyplot as plt\n",
    "import seaborn as sns"
   ]
  },
  {
   "cell_type": "markdown",
   "id": "b3fc141f-5210-4bf8-bc15-32b78ccb3455",
   "metadata": {},
   "source": [
    "IMPORTING DATA"
   ]
  },
  {
   "cell_type": "code",
   "execution_count": 31,
   "id": "86693eeb-aa62-4d82-ade5-a009b243952c",
   "metadata": {},
   "outputs": [],
   "source": [
    "data=pd.read_csv(\"https://raw.githubusercontent.com/DataThinkers/Datasets/main/DS/Udemy_Courses.csv\",parse_dates=['published_timestamp'])"
   ]
  },
  {
   "cell_type": "code",
   "execution_count": 32,
   "id": "fc0192e2-3447-48cd-bc31-b2200e1ddfc0",
   "metadata": {},
   "outputs": [
    {
     "name": "stdout",
     "output_type": "stream",
     "text": [
      "      course_id                                       course_title  is_paid  \\\n",
      "0        288942  #1 Piano Hand Coordination: Play 10th Ballad i...     True   \n",
      "1       1170074  #10 Hand Coordination - Transfer Chord Ballad ...     True   \n",
      "2       1193886  #12 Hand Coordination: Let your Hands dance wi...     True   \n",
      "3       1116700  #4 Piano Hand Coordination: Fun Piano Runs in ...     True   \n",
      "4       1120410  #5  Piano Hand Coordination:  Piano Runs in 2 ...     True   \n",
      "...         ...                                                ...      ...   \n",
      "3677     328960  Your Own Site in 45 Min: The Complete Wordpres...     True   \n",
      "3678     552700    Your Second Course on Piano: Two Handed Playing     True   \n",
      "3679     631754  Zend Framework 2: Learn the PHP framework ZF2 ...     True   \n",
      "3680    1225194  Zoho Books Gestion Financière d'Entreprise pas...    False   \n",
      "3681     964478                Zombie Apocalypse Photoshop Actions     True   \n",
      "\n",
      "     price  num_subscribers  num_reviews  num_lectures               level  \\\n",
      "0       35             3137           18            68          All Levels   \n",
      "1       75             1593            1            41  Intermediate Level   \n",
      "2       75              482            1            47  Intermediate Level   \n",
      "3       75              850            3            43  Intermediate Level   \n",
      "4       75              940            3            32  Intermediate Level   \n",
      "...    ...              ...          ...           ...                 ...   \n",
      "3677   120             1566           29            36          All Levels   \n",
      "3678    70             1018           12            22      Beginner Level   \n",
      "3679    40              723          130            37          All Levels   \n",
      "3680  Free              229            0            33          All Levels   \n",
      "3681    50               12            1            15          All Levels   \n",
      "\n",
      "     content_duration       published_timestamp              subject  \n",
      "0           1.5 hours 2014-09-18 05:07:05+00:00  Musical Instruments  \n",
      "1              1 hour 2017-04-12 19:06:34+00:00  Musical Instruments  \n",
      "2           1.5 hours 2017-04-26 18:34:57+00:00  Musical Instruments  \n",
      "3              1 hour 2017-02-21 23:48:18+00:00  Musical Instruments  \n",
      "4             37 mins 2017-02-21 23:44:49+00:00  Musical Instruments  \n",
      "...               ...                       ...                  ...  \n",
      "3677          4 hours 2015-04-20 22:15:17+00:00      Web Development  \n",
      "3678          5 hours 2015-10-26 20:04:21+00:00  Musical Instruments  \n",
      "3679        6.5 hours 2015-11-11 18:55:45+00:00      Web Development  \n",
      "3680          2 hours 2017-05-26 16:45:55+00:00     Business Finance  \n",
      "3681        1.5 hours 2016-09-26 22:19:48+00:00       Graphic Design  \n",
      "\n",
      "[3682 rows x 11 columns]\n"
     ]
    }
   ],
   "source": [
    "print(data)"
   ]
  },
  {
   "cell_type": "code",
   "execution_count": 33,
   "id": "424e5f0e-7779-4bcc-820e-cffc2a07088f",
   "metadata": {},
   "outputs": [
    {
     "data": {
      "text/plain": [
       "course_id                            int64\n",
       "course_title                        object\n",
       "is_paid                               bool\n",
       "price                               object\n",
       "num_subscribers                      int64\n",
       "num_reviews                          int64\n",
       "num_lectures                         int64\n",
       "level                               object\n",
       "content_duration                    object\n",
       "published_timestamp    datetime64[ns, UTC]\n",
       "subject                             object\n",
       "dtype: object"
      ]
     },
     "execution_count": 33,
     "metadata": {},
     "output_type": "execute_result"
    }
   ],
   "source": [
    "data.dtypes"
   ]
  },
  {
   "cell_type": "markdown",
   "id": "fd0ae019-d947-44ea-a22b-636b057341d9",
   "metadata": {},
   "source": [
    "DISPLAYING TOP 10 DATASETS"
   ]
  },
  {
   "cell_type": "code",
   "execution_count": 34,
   "id": "0745eeba-c567-425c-a0f4-698c3f9504dd",
   "metadata": {},
   "outputs": [
    {
     "data": {
      "text/html": [
       "<div>\n",
       "<style scoped>\n",
       "    .dataframe tbody tr th:only-of-type {\n",
       "        vertical-align: middle;\n",
       "    }\n",
       "\n",
       "    .dataframe tbody tr th {\n",
       "        vertical-align: top;\n",
       "    }\n",
       "\n",
       "    .dataframe thead th {\n",
       "        text-align: right;\n",
       "    }\n",
       "</style>\n",
       "<table border=\"1\" class=\"dataframe\">\n",
       "  <thead>\n",
       "    <tr style=\"text-align: right;\">\n",
       "      <th></th>\n",
       "      <th>course_id</th>\n",
       "      <th>course_title</th>\n",
       "      <th>is_paid</th>\n",
       "      <th>price</th>\n",
       "      <th>num_subscribers</th>\n",
       "      <th>num_reviews</th>\n",
       "      <th>num_lectures</th>\n",
       "      <th>level</th>\n",
       "      <th>content_duration</th>\n",
       "      <th>published_timestamp</th>\n",
       "      <th>subject</th>\n",
       "    </tr>\n",
       "  </thead>\n",
       "  <tbody>\n",
       "    <tr>\n",
       "      <th>0</th>\n",
       "      <td>288942</td>\n",
       "      <td>#1 Piano Hand Coordination: Play 10th Ballad i...</td>\n",
       "      <td>True</td>\n",
       "      <td>35</td>\n",
       "      <td>3137</td>\n",
       "      <td>18</td>\n",
       "      <td>68</td>\n",
       "      <td>All Levels</td>\n",
       "      <td>1.5 hours</td>\n",
       "      <td>2014-09-18 05:07:05+00:00</td>\n",
       "      <td>Musical Instruments</td>\n",
       "    </tr>\n",
       "    <tr>\n",
       "      <th>1</th>\n",
       "      <td>1170074</td>\n",
       "      <td>#10 Hand Coordination - Transfer Chord Ballad ...</td>\n",
       "      <td>True</td>\n",
       "      <td>75</td>\n",
       "      <td>1593</td>\n",
       "      <td>1</td>\n",
       "      <td>41</td>\n",
       "      <td>Intermediate Level</td>\n",
       "      <td>1 hour</td>\n",
       "      <td>2017-04-12 19:06:34+00:00</td>\n",
       "      <td>Musical Instruments</td>\n",
       "    </tr>\n",
       "    <tr>\n",
       "      <th>2</th>\n",
       "      <td>1193886</td>\n",
       "      <td>#12 Hand Coordination: Let your Hands dance wi...</td>\n",
       "      <td>True</td>\n",
       "      <td>75</td>\n",
       "      <td>482</td>\n",
       "      <td>1</td>\n",
       "      <td>47</td>\n",
       "      <td>Intermediate Level</td>\n",
       "      <td>1.5 hours</td>\n",
       "      <td>2017-04-26 18:34:57+00:00</td>\n",
       "      <td>Musical Instruments</td>\n",
       "    </tr>\n",
       "    <tr>\n",
       "      <th>3</th>\n",
       "      <td>1116700</td>\n",
       "      <td>#4 Piano Hand Coordination: Fun Piano Runs in ...</td>\n",
       "      <td>True</td>\n",
       "      <td>75</td>\n",
       "      <td>850</td>\n",
       "      <td>3</td>\n",
       "      <td>43</td>\n",
       "      <td>Intermediate Level</td>\n",
       "      <td>1 hour</td>\n",
       "      <td>2017-02-21 23:48:18+00:00</td>\n",
       "      <td>Musical Instruments</td>\n",
       "    </tr>\n",
       "    <tr>\n",
       "      <th>4</th>\n",
       "      <td>1120410</td>\n",
       "      <td>#5  Piano Hand Coordination:  Piano Runs in 2 ...</td>\n",
       "      <td>True</td>\n",
       "      <td>75</td>\n",
       "      <td>940</td>\n",
       "      <td>3</td>\n",
       "      <td>32</td>\n",
       "      <td>Intermediate Level</td>\n",
       "      <td>37 mins</td>\n",
       "      <td>2017-02-21 23:44:49+00:00</td>\n",
       "      <td>Musical Instruments</td>\n",
       "    </tr>\n",
       "    <tr>\n",
       "      <th>5</th>\n",
       "      <td>1122832</td>\n",
       "      <td>#6 Piano Hand Coordination: Play Open 10 Balla...</td>\n",
       "      <td>True</td>\n",
       "      <td>65</td>\n",
       "      <td>2015</td>\n",
       "      <td>3</td>\n",
       "      <td>21</td>\n",
       "      <td>Intermediate Level</td>\n",
       "      <td>44 mins</td>\n",
       "      <td>2017-03-08 17:53:36+00:00</td>\n",
       "      <td>Musical Instruments</td>\n",
       "    </tr>\n",
       "    <tr>\n",
       "      <th>6</th>\n",
       "      <td>1123184</td>\n",
       "      <td>#7 Piano Hand Coordination: Play Piano Runs in...</td>\n",
       "      <td>True</td>\n",
       "      <td>65</td>\n",
       "      <td>2015</td>\n",
       "      <td>2</td>\n",
       "      <td>25</td>\n",
       "      <td>Intermediate Level</td>\n",
       "      <td>1 hour</td>\n",
       "      <td>2017-03-08 18:09:32+00:00</td>\n",
       "      <td>Musical Instruments</td>\n",
       "    </tr>\n",
       "    <tr>\n",
       "      <th>7</th>\n",
       "      <td>768028</td>\n",
       "      <td>* An Integrated Approach to the Fundamentals o...</td>\n",
       "      <td>True</td>\n",
       "      <td>200</td>\n",
       "      <td>134</td>\n",
       "      <td>14</td>\n",
       "      <td>123</td>\n",
       "      <td>All Levels</td>\n",
       "      <td>5.5 hours</td>\n",
       "      <td>2016-03-15 17:23:07+00:00</td>\n",
       "      <td>Business Finance</td>\n",
       "    </tr>\n",
       "    <tr>\n",
       "      <th>8</th>\n",
       "      <td>206592</td>\n",
       "      <td>:::Beginners Guide To Creating Amazing Images ...</td>\n",
       "      <td>True</td>\n",
       "      <td>25</td>\n",
       "      <td>72</td>\n",
       "      <td>5</td>\n",
       "      <td>17</td>\n",
       "      <td>Beginner Level</td>\n",
       "      <td>1 hour</td>\n",
       "      <td>2014-04-29 19:50:31+00:00</td>\n",
       "      <td>Graphic Design</td>\n",
       "    </tr>\n",
       "    <tr>\n",
       "      <th>9</th>\n",
       "      <td>738910</td>\n",
       "      <td>[Value Investing] Where White People Keep Thei...</td>\n",
       "      <td>True</td>\n",
       "      <td>200</td>\n",
       "      <td>2715</td>\n",
       "      <td>70</td>\n",
       "      <td>20</td>\n",
       "      <td>Expert Level</td>\n",
       "      <td>4 hours</td>\n",
       "      <td>2016-05-25 21:04:41+00:00</td>\n",
       "      <td>Business Finance</td>\n",
       "    </tr>\n",
       "  </tbody>\n",
       "</table>\n",
       "</div>"
      ],
      "text/plain": [
       "   course_id                                       course_title  is_paid  \\\n",
       "0     288942  #1 Piano Hand Coordination: Play 10th Ballad i...     True   \n",
       "1    1170074  #10 Hand Coordination - Transfer Chord Ballad ...     True   \n",
       "2    1193886  #12 Hand Coordination: Let your Hands dance wi...     True   \n",
       "3    1116700  #4 Piano Hand Coordination: Fun Piano Runs in ...     True   \n",
       "4    1120410  #5  Piano Hand Coordination:  Piano Runs in 2 ...     True   \n",
       "5    1122832  #6 Piano Hand Coordination: Play Open 10 Balla...     True   \n",
       "6    1123184  #7 Piano Hand Coordination: Play Piano Runs in...     True   \n",
       "7     768028  * An Integrated Approach to the Fundamentals o...     True   \n",
       "8     206592  :::Beginners Guide To Creating Amazing Images ...     True   \n",
       "9     738910  [Value Investing] Where White People Keep Thei...     True   \n",
       "\n",
       "  price  num_subscribers  num_reviews  num_lectures               level  \\\n",
       "0    35             3137           18            68          All Levels   \n",
       "1    75             1593            1            41  Intermediate Level   \n",
       "2    75              482            1            47  Intermediate Level   \n",
       "3    75              850            3            43  Intermediate Level   \n",
       "4    75              940            3            32  Intermediate Level   \n",
       "5    65             2015            3            21  Intermediate Level   \n",
       "6    65             2015            2            25  Intermediate Level   \n",
       "7   200              134           14           123          All Levels   \n",
       "8    25               72            5            17      Beginner Level   \n",
       "9   200             2715           70            20        Expert Level   \n",
       "\n",
       "  content_duration       published_timestamp              subject  \n",
       "0        1.5 hours 2014-09-18 05:07:05+00:00  Musical Instruments  \n",
       "1           1 hour 2017-04-12 19:06:34+00:00  Musical Instruments  \n",
       "2        1.5 hours 2017-04-26 18:34:57+00:00  Musical Instruments  \n",
       "3           1 hour 2017-02-21 23:48:18+00:00  Musical Instruments  \n",
       "4          37 mins 2017-02-21 23:44:49+00:00  Musical Instruments  \n",
       "5          44 mins 2017-03-08 17:53:36+00:00  Musical Instruments  \n",
       "6           1 hour 2017-03-08 18:09:32+00:00  Musical Instruments  \n",
       "7        5.5 hours 2016-03-15 17:23:07+00:00     Business Finance  \n",
       "8           1 hour 2014-04-29 19:50:31+00:00       Graphic Design  \n",
       "9          4 hours 2016-05-25 21:04:41+00:00     Business Finance  "
      ]
     },
     "execution_count": 34,
     "metadata": {},
     "output_type": "execute_result"
    }
   ],
   "source": [
    "data.head(10)"
   ]
  },
  {
   "cell_type": "markdown",
   "id": "be2f5c20-d870-44eb-a061-a80a38809430",
   "metadata": {},
   "source": [
    "DISPLAYING LAST 5 ROWS OF THE DATASET"
   ]
  },
  {
   "cell_type": "code",
   "execution_count": 35,
   "id": "6c04cb94-bc2b-4da3-9aa9-dde48f8663d9",
   "metadata": {},
   "outputs": [
    {
     "data": {
      "text/html": [
       "<div>\n",
       "<style scoped>\n",
       "    .dataframe tbody tr th:only-of-type {\n",
       "        vertical-align: middle;\n",
       "    }\n",
       "\n",
       "    .dataframe tbody tr th {\n",
       "        vertical-align: top;\n",
       "    }\n",
       "\n",
       "    .dataframe thead th {\n",
       "        text-align: right;\n",
       "    }\n",
       "</style>\n",
       "<table border=\"1\" class=\"dataframe\">\n",
       "  <thead>\n",
       "    <tr style=\"text-align: right;\">\n",
       "      <th></th>\n",
       "      <th>course_id</th>\n",
       "      <th>course_title</th>\n",
       "      <th>is_paid</th>\n",
       "      <th>price</th>\n",
       "      <th>num_subscribers</th>\n",
       "      <th>num_reviews</th>\n",
       "      <th>num_lectures</th>\n",
       "      <th>level</th>\n",
       "      <th>content_duration</th>\n",
       "      <th>published_timestamp</th>\n",
       "      <th>subject</th>\n",
       "    </tr>\n",
       "  </thead>\n",
       "  <tbody>\n",
       "    <tr>\n",
       "      <th>3677</th>\n",
       "      <td>328960</td>\n",
       "      <td>Your Own Site in 45 Min: The Complete Wordpres...</td>\n",
       "      <td>True</td>\n",
       "      <td>120</td>\n",
       "      <td>1566</td>\n",
       "      <td>29</td>\n",
       "      <td>36</td>\n",
       "      <td>All Levels</td>\n",
       "      <td>4 hours</td>\n",
       "      <td>2015-04-20 22:15:17+00:00</td>\n",
       "      <td>Web Development</td>\n",
       "    </tr>\n",
       "    <tr>\n",
       "      <th>3678</th>\n",
       "      <td>552700</td>\n",
       "      <td>Your Second Course on Piano: Two Handed Playing</td>\n",
       "      <td>True</td>\n",
       "      <td>70</td>\n",
       "      <td>1018</td>\n",
       "      <td>12</td>\n",
       "      <td>22</td>\n",
       "      <td>Beginner Level</td>\n",
       "      <td>5 hours</td>\n",
       "      <td>2015-10-26 20:04:21+00:00</td>\n",
       "      <td>Musical Instruments</td>\n",
       "    </tr>\n",
       "    <tr>\n",
       "      <th>3679</th>\n",
       "      <td>631754</td>\n",
       "      <td>Zend Framework 2: Learn the PHP framework ZF2 ...</td>\n",
       "      <td>True</td>\n",
       "      <td>40</td>\n",
       "      <td>723</td>\n",
       "      <td>130</td>\n",
       "      <td>37</td>\n",
       "      <td>All Levels</td>\n",
       "      <td>6.5 hours</td>\n",
       "      <td>2015-11-11 18:55:45+00:00</td>\n",
       "      <td>Web Development</td>\n",
       "    </tr>\n",
       "    <tr>\n",
       "      <th>3680</th>\n",
       "      <td>1225194</td>\n",
       "      <td>Zoho Books Gestion Financière d'Entreprise pas...</td>\n",
       "      <td>False</td>\n",
       "      <td>Free</td>\n",
       "      <td>229</td>\n",
       "      <td>0</td>\n",
       "      <td>33</td>\n",
       "      <td>All Levels</td>\n",
       "      <td>2 hours</td>\n",
       "      <td>2017-05-26 16:45:55+00:00</td>\n",
       "      <td>Business Finance</td>\n",
       "    </tr>\n",
       "    <tr>\n",
       "      <th>3681</th>\n",
       "      <td>964478</td>\n",
       "      <td>Zombie Apocalypse Photoshop Actions</td>\n",
       "      <td>True</td>\n",
       "      <td>50</td>\n",
       "      <td>12</td>\n",
       "      <td>1</td>\n",
       "      <td>15</td>\n",
       "      <td>All Levels</td>\n",
       "      <td>1.5 hours</td>\n",
       "      <td>2016-09-26 22:19:48+00:00</td>\n",
       "      <td>Graphic Design</td>\n",
       "    </tr>\n",
       "  </tbody>\n",
       "</table>\n",
       "</div>"
      ],
      "text/plain": [
       "      course_id                                       course_title  is_paid  \\\n",
       "3677     328960  Your Own Site in 45 Min: The Complete Wordpres...     True   \n",
       "3678     552700    Your Second Course on Piano: Two Handed Playing     True   \n",
       "3679     631754  Zend Framework 2: Learn the PHP framework ZF2 ...     True   \n",
       "3680    1225194  Zoho Books Gestion Financière d'Entreprise pas...    False   \n",
       "3681     964478                Zombie Apocalypse Photoshop Actions     True   \n",
       "\n",
       "     price  num_subscribers  num_reviews  num_lectures           level  \\\n",
       "3677   120             1566           29            36      All Levels   \n",
       "3678    70             1018           12            22  Beginner Level   \n",
       "3679    40              723          130            37      All Levels   \n",
       "3680  Free              229            0            33      All Levels   \n",
       "3681    50               12            1            15      All Levels   \n",
       "\n",
       "     content_duration       published_timestamp              subject  \n",
       "3677          4 hours 2015-04-20 22:15:17+00:00      Web Development  \n",
       "3678          5 hours 2015-10-26 20:04:21+00:00  Musical Instruments  \n",
       "3679        6.5 hours 2015-11-11 18:55:45+00:00      Web Development  \n",
       "3680          2 hours 2017-05-26 16:45:55+00:00     Business Finance  \n",
       "3681        1.5 hours 2016-09-26 22:19:48+00:00       Graphic Design  "
      ]
     },
     "execution_count": 35,
     "metadata": {},
     "output_type": "execute_result"
    }
   ],
   "source": [
    "data.tail()"
   ]
  },
  {
   "cell_type": "markdown",
   "id": "7b1d83a5-410f-4051-9b59-d86991a46306",
   "metadata": {},
   "source": [
    "SHAPE OF THE DATASET"
   ]
  },
  {
   "cell_type": "code",
   "execution_count": 36,
   "id": "4b511be4-cded-4975-b960-f9f3263cb2f3",
   "metadata": {},
   "outputs": [
    {
     "data": {
      "text/plain": [
       "(3682, 11)"
      ]
     },
     "execution_count": 36,
     "metadata": {},
     "output_type": "execute_result"
    }
   ],
   "source": [
    "data.shape"
   ]
  },
  {
   "cell_type": "code",
   "execution_count": 37,
   "id": "f4708ba7-6b81-418d-b737-e2f49f9cfa17",
   "metadata": {},
   "outputs": [
    {
     "name": "stdout",
     "output_type": "stream",
     "text": [
      "number of rows: 3682\n",
      "number of columns: 11\n"
     ]
    }
   ],
   "source": [
    "print(\"number of rows:\",data.shape[0])\n",
    "print(\"number of columns:\",data.shape[1])"
   ]
  },
  {
   "cell_type": "markdown",
   "id": "87aa1db6-d7a1-451a-bf2a-f19862e83803",
   "metadata": {},
   "source": [
    "TOTAL NUMBER PF ROWS,TOTAL NUMBER OF COLUMNS, DATA TYPE OF EACH COLUMN AND MEMORY REQUIRED  "
   ]
  },
  {
   "cell_type": "code",
   "execution_count": 39,
   "id": "d20f5db2-7fa1-46a0-bdd5-90f2473157c0",
   "metadata": {},
   "outputs": [
    {
     "name": "stdout",
     "output_type": "stream",
     "text": [
      "<class 'pandas.core.frame.DataFrame'>\n",
      "RangeIndex: 3682 entries, 0 to 3681\n",
      "Data columns (total 11 columns):\n",
      " #   Column               Non-Null Count  Dtype              \n",
      "---  ------               --------------  -----              \n",
      " 0   course_id            3682 non-null   int64              \n",
      " 1   course_title         3682 non-null   object             \n",
      " 2   is_paid              3682 non-null   bool               \n",
      " 3   price                3682 non-null   object             \n",
      " 4   num_subscribers      3682 non-null   int64              \n",
      " 5   num_reviews          3682 non-null   int64              \n",
      " 6   num_lectures         3682 non-null   int64              \n",
      " 7   level                3682 non-null   object             \n",
      " 8   content_duration     3682 non-null   object             \n",
      " 9   published_timestamp  3682 non-null   datetime64[ns, UTC]\n",
      " 10  subject              3682 non-null   object             \n",
      "dtypes: bool(1), datetime64[ns, UTC](1), int64(4), object(5)\n",
      "memory usage: 291.4+ KB\n"
     ]
    }
   ],
   "source": [
    "data.info()"
   ]
  },
  {
   "cell_type": "markdown",
   "id": "d7e3fb86-1129-4e88-a2db-bda43ad485f1",
   "metadata": {},
   "source": [
    "NULL VALUES IN THE DATA SET"
   ]
  },
  {
   "cell_type": "code",
   "execution_count": 42,
   "id": "82f3bc66-8911-4602-aaa2-0c55ae3e77bb",
   "metadata": {},
   "outputs": [
    {
     "name": "stdout",
     "output_type": "stream",
     "text": [
      "any null value?: False\n"
     ]
    }
   ],
   "source": [
    "print(\"any null value?:\",data.isnull().values.any())"
   ]
  },
  {
   "cell_type": "code",
   "execution_count": 43,
   "id": "1f13f149-2631-40d5-a135-79b770fec279",
   "metadata": {},
   "outputs": [
    {
     "data": {
      "text/html": [
       "<div>\n",
       "<style scoped>\n",
       "    .dataframe tbody tr th:only-of-type {\n",
       "        vertical-align: middle;\n",
       "    }\n",
       "\n",
       "    .dataframe tbody tr th {\n",
       "        vertical-align: top;\n",
       "    }\n",
       "\n",
       "    .dataframe thead th {\n",
       "        text-align: right;\n",
       "    }\n",
       "</style>\n",
       "<table border=\"1\" class=\"dataframe\">\n",
       "  <thead>\n",
       "    <tr style=\"text-align: right;\">\n",
       "      <th></th>\n",
       "      <th>course_id</th>\n",
       "      <th>course_title</th>\n",
       "      <th>is_paid</th>\n",
       "      <th>price</th>\n",
       "      <th>num_subscribers</th>\n",
       "      <th>num_reviews</th>\n",
       "      <th>num_lectures</th>\n",
       "      <th>level</th>\n",
       "      <th>content_duration</th>\n",
       "      <th>published_timestamp</th>\n",
       "      <th>subject</th>\n",
       "    </tr>\n",
       "  </thead>\n",
       "  <tbody>\n",
       "    <tr>\n",
       "      <th>0</th>\n",
       "      <td>False</td>\n",
       "      <td>False</td>\n",
       "      <td>False</td>\n",
       "      <td>False</td>\n",
       "      <td>False</td>\n",
       "      <td>False</td>\n",
       "      <td>False</td>\n",
       "      <td>False</td>\n",
       "      <td>False</td>\n",
       "      <td>False</td>\n",
       "      <td>False</td>\n",
       "    </tr>\n",
       "    <tr>\n",
       "      <th>1</th>\n",
       "      <td>False</td>\n",
       "      <td>False</td>\n",
       "      <td>False</td>\n",
       "      <td>False</td>\n",
       "      <td>False</td>\n",
       "      <td>False</td>\n",
       "      <td>False</td>\n",
       "      <td>False</td>\n",
       "      <td>False</td>\n",
       "      <td>False</td>\n",
       "      <td>False</td>\n",
       "    </tr>\n",
       "    <tr>\n",
       "      <th>2</th>\n",
       "      <td>False</td>\n",
       "      <td>False</td>\n",
       "      <td>False</td>\n",
       "      <td>False</td>\n",
       "      <td>False</td>\n",
       "      <td>False</td>\n",
       "      <td>False</td>\n",
       "      <td>False</td>\n",
       "      <td>False</td>\n",
       "      <td>False</td>\n",
       "      <td>False</td>\n",
       "    </tr>\n",
       "    <tr>\n",
       "      <th>3</th>\n",
       "      <td>False</td>\n",
       "      <td>False</td>\n",
       "      <td>False</td>\n",
       "      <td>False</td>\n",
       "      <td>False</td>\n",
       "      <td>False</td>\n",
       "      <td>False</td>\n",
       "      <td>False</td>\n",
       "      <td>False</td>\n",
       "      <td>False</td>\n",
       "      <td>False</td>\n",
       "    </tr>\n",
       "    <tr>\n",
       "      <th>4</th>\n",
       "      <td>False</td>\n",
       "      <td>False</td>\n",
       "      <td>False</td>\n",
       "      <td>False</td>\n",
       "      <td>False</td>\n",
       "      <td>False</td>\n",
       "      <td>False</td>\n",
       "      <td>False</td>\n",
       "      <td>False</td>\n",
       "      <td>False</td>\n",
       "      <td>False</td>\n",
       "    </tr>\n",
       "    <tr>\n",
       "      <th>...</th>\n",
       "      <td>...</td>\n",
       "      <td>...</td>\n",
       "      <td>...</td>\n",
       "      <td>...</td>\n",
       "      <td>...</td>\n",
       "      <td>...</td>\n",
       "      <td>...</td>\n",
       "      <td>...</td>\n",
       "      <td>...</td>\n",
       "      <td>...</td>\n",
       "      <td>...</td>\n",
       "    </tr>\n",
       "    <tr>\n",
       "      <th>3677</th>\n",
       "      <td>False</td>\n",
       "      <td>False</td>\n",
       "      <td>False</td>\n",
       "      <td>False</td>\n",
       "      <td>False</td>\n",
       "      <td>False</td>\n",
       "      <td>False</td>\n",
       "      <td>False</td>\n",
       "      <td>False</td>\n",
       "      <td>False</td>\n",
       "      <td>False</td>\n",
       "    </tr>\n",
       "    <tr>\n",
       "      <th>3678</th>\n",
       "      <td>False</td>\n",
       "      <td>False</td>\n",
       "      <td>False</td>\n",
       "      <td>False</td>\n",
       "      <td>False</td>\n",
       "      <td>False</td>\n",
       "      <td>False</td>\n",
       "      <td>False</td>\n",
       "      <td>False</td>\n",
       "      <td>False</td>\n",
       "      <td>False</td>\n",
       "    </tr>\n",
       "    <tr>\n",
       "      <th>3679</th>\n",
       "      <td>False</td>\n",
       "      <td>False</td>\n",
       "      <td>False</td>\n",
       "      <td>False</td>\n",
       "      <td>False</td>\n",
       "      <td>False</td>\n",
       "      <td>False</td>\n",
       "      <td>False</td>\n",
       "      <td>False</td>\n",
       "      <td>False</td>\n",
       "      <td>False</td>\n",
       "    </tr>\n",
       "    <tr>\n",
       "      <th>3680</th>\n",
       "      <td>False</td>\n",
       "      <td>False</td>\n",
       "      <td>False</td>\n",
       "      <td>False</td>\n",
       "      <td>False</td>\n",
       "      <td>False</td>\n",
       "      <td>False</td>\n",
       "      <td>False</td>\n",
       "      <td>False</td>\n",
       "      <td>False</td>\n",
       "      <td>False</td>\n",
       "    </tr>\n",
       "    <tr>\n",
       "      <th>3681</th>\n",
       "      <td>False</td>\n",
       "      <td>False</td>\n",
       "      <td>False</td>\n",
       "      <td>False</td>\n",
       "      <td>False</td>\n",
       "      <td>False</td>\n",
       "      <td>False</td>\n",
       "      <td>False</td>\n",
       "      <td>False</td>\n",
       "      <td>False</td>\n",
       "      <td>False</td>\n",
       "    </tr>\n",
       "  </tbody>\n",
       "</table>\n",
       "<p>3682 rows × 11 columns</p>\n",
       "</div>"
      ],
      "text/plain": [
       "      course_id  course_title  is_paid  price  num_subscribers  num_reviews  \\\n",
       "0         False         False    False  False            False        False   \n",
       "1         False         False    False  False            False        False   \n",
       "2         False         False    False  False            False        False   \n",
       "3         False         False    False  False            False        False   \n",
       "4         False         False    False  False            False        False   \n",
       "...         ...           ...      ...    ...              ...          ...   \n",
       "3677      False         False    False  False            False        False   \n",
       "3678      False         False    False  False            False        False   \n",
       "3679      False         False    False  False            False        False   \n",
       "3680      False         False    False  False            False        False   \n",
       "3681      False         False    False  False            False        False   \n",
       "\n",
       "      num_lectures  level  content_duration  published_timestamp  subject  \n",
       "0            False  False             False                False    False  \n",
       "1            False  False             False                False    False  \n",
       "2            False  False             False                False    False  \n",
       "3            False  False             False                False    False  \n",
       "4            False  False             False                False    False  \n",
       "...            ...    ...               ...                  ...      ...  \n",
       "3677         False  False             False                False    False  \n",
       "3678         False  False             False                False    False  \n",
       "3679         False  False             False                False    False  \n",
       "3680         False  False             False                False    False  \n",
       "3681         False  False             False                False    False  \n",
       "\n",
       "[3682 rows x 11 columns]"
      ]
     },
     "execution_count": 43,
     "metadata": {},
     "output_type": "execute_result"
    }
   ],
   "source": [
    "data.isnull()"
   ]
  },
  {
   "cell_type": "code",
   "execution_count": 45,
   "id": "80398929-b8b2-470b-88af-d8bed5dc8632",
   "metadata": {},
   "outputs": [
    {
     "data": {
      "text/plain": [
       "<Axes: >"
      ]
     },
     "execution_count": 45,
     "metadata": {},
     "output_type": "execute_result"
    },
    {
     "data": {
      "image/png": "[encoded data removed]",
      "text/plain": [
       "<Figure size 640x480 with 2 Axes>"
      ]
     },
     "metadata": {},
     "output_type": "display_data"
    }
   ],
   "source": [
    "sns.heatmap(data.isnull())"
   ]
  },
  {
   "cell_type": "markdown",
   "id": "ce133529-1a65-4072-9f94-91a4759f08a2",
   "metadata": {},
   "source": [
    "CHECKING AND DROPPING DUPLICATE DATAS"
   ]
  },
  {
   "cell_type": "code",
   "execution_count": 46,
   "id": "d7065be5-7449-4727-b19d-878178315f93",
   "metadata": {},
   "outputs": [
    {
     "name": "stdout",
     "output_type": "stream",
     "text": [
      "any duplicated data?: True\n"
     ]
    }
   ],
   "source": [
    "duplicate=data.duplicated().any()\n",
    "print(\"any duplicated data?:\",duplicate)"
   ]
  },
  {
   "cell_type": "code",
   "execution_count": 47,
   "id": "422532db-5d11-45fd-86f9-14c4ae38f03f",
   "metadata": {},
   "outputs": [],
   "source": [
    "data=data.drop_duplicates()"
   ]
  },
  {
   "cell_type": "code",
   "execution_count": 48,
   "id": "1545d2c1-f1f7-4722-b976-475233192b79",
   "metadata": {},
   "outputs": [
    {
     "name": "stdout",
     "output_type": "stream",
     "text": [
      "any duplicated data?: False\n"
     ]
    }
   ],
   "source": [
    "duplicate=data.duplicated().any()\n",
    "print(\"any duplicated data?:\",duplicate)"
   ]
  },
  {
   "cell_type": "markdown",
   "id": "05429d6c-730a-4409-b185-ddac3eb10f87",
   "metadata": {},
   "source": [
    "NUMBER OF COURSES PER SUBJECTS"
   ]
  },
  {
   "cell_type": "code",
   "execution_count": 49,
   "id": "7e1e7e6e-6e23-429b-9d4e-e9e25999c128",
   "metadata": {},
   "outputs": [
    {
     "data": {
      "text/plain": [
       "subject\n",
       "Web Development        1199\n",
       "Business Finance       1195\n",
       "Musical Instruments     680\n",
       "Graphic Design          602\n",
       "Name: count, dtype: int64"
      ]
     },
     "execution_count": 49,
     "metadata": {},
     "output_type": "execute_result"
    }
   ],
   "source": [
    "data['subject'].value_counts()"
   ]
  },
  {
   "cell_type": "code",
   "execution_count": 58,
   "id": "e6c5e6e1-11d4-4686-abdb-605b63d63fcc",
   "metadata": {},
   "outputs": [
    {
     "data": {
      "image/png": "[encoded data removed]",
      "text/plain": [
       "<Figure size 640x480 with 1 Axes>"
      ]
     },
     "metadata": {},
     "output_type": "display_data"
    }
   ],
   "source": [
    "sns.countplot(data['subject'])\n",
    "plt.xlabel('courses per subject',fontsize=15)\n",
    "plt.ylabel('subjects',fontsize=15)\n",
    "plt.show()\n",
    "\n"
   ]
  },
  {
   "cell_type": "markdown",
   "id": "74f973e8-4615-484e-984a-ac7a55ff9214",
   "metadata": {},
   "source": [
    "CONCLUSION: Udemy is offerring maximum number of courses in Web Development"
   ]
  },
  {
   "cell_type": "markdown",
   "id": "b0c3f6d9-8c11-4443-97b6-69b4b6bca888",
   "metadata": {},
   "source": [
    "LEVELS TILL WHICH UDEMY IS PROVIDING THEIR COURSES"
   ]
  },
  {
   "cell_type": "code",
   "execution_count": 60,
   "id": "5bcfa4e0-97ee-47d6-b6c6-76d43c7583f5",
   "metadata": {},
   "outputs": [
    {
     "data": {
      "text/plain": [
       "level\n",
       "All Levels            1928\n",
       "Beginner Level        1269\n",
       "Intermediate Level     421\n",
       "Expert Level            58\n",
       "Name: count, dtype: int64"
      ]
     },
     "execution_count": 60,
     "metadata": {},
     "output_type": "execute_result"
    }
   ],
   "source": [
    "data['level'].value_counts()"
   ]
  },
  {
   "cell_type": "code",
   "execution_count": 64,
   "id": "7ea12f26-43c2-4433-959b-78ee285596d2",
   "metadata": {},
   "outputs": [
    {
     "data": {
      "image/png": "[encoded data removed]",
      "text/plain": [
       "<Figure size 640x480 with 1 Axes>"
      ]
     },
     "metadata": {},
     "output_type": "display_data"
    }
   ],
   "source": [
    "sns.countplot(data['level'])\n",
    "plt.xlabel('Number of courses',fontsize=15)\n",
    "plt.ylabel('Levels',fontsize=15)\n",
    "plt.show()"
   ]
  },
  {
   "cell_type": "markdown",
   "id": "f2a07d6b-358d-4364-9053-cd9429c90b78",
   "metadata": {},
   "source": [
    "CONCLUSION: Maximum number of courses that udemy is offering are beginner level"
   ]
  },
  {
   "cell_type": "markdown",
   "id": "63bc9a0a-b705-4c4c-8915-4967c445963a",
   "metadata": {},
   "source": [
    "PAID AND FREE COURSES"
   ]
  },
  {
   "cell_type": "code",
   "execution_count": 65,
   "id": "88f6016a-1c86-427d-9977-306915974c6a",
   "metadata": {},
   "outputs": [
    {
     "data": {
      "text/plain": [
       "Index(['course_id', 'course_title', 'is_paid', 'price', 'num_subscribers',\n",
       "       'num_reviews', 'num_lectures', 'level', 'content_duration',\n",
       "       'published_timestamp', 'subject'],\n",
       "      dtype='object')"
      ]
     },
     "execution_count": 65,
     "metadata": {},
     "output_type": "execute_result"
    }
   ],
   "source": [
    "data.columns"
   ]
  },
  {
   "cell_type": "code",
   "execution_count": 66,
   "id": "fc7f281f-3455-4505-8a9f-b1e63e8da5c4",
   "metadata": {},
   "outputs": [
    {
     "data": {
      "text/plain": [
       "is_paid\n",
       "True     3366\n",
       "False     310\n",
       "Name: count, dtype: int64"
      ]
     },
     "execution_count": 66,
     "metadata": {},
     "output_type": "execute_result"
    }
   ],
   "source": [
    "data['is_paid'].value_counts()"
   ]
  },
  {
   "cell_type": "markdown",
   "id": "e5511649-c421-4695-8ba7-001f48874072",
   "metadata": {},
   "source": [
    "CONCLUSION: Paid courses are more in number than unpaid"
   ]
  },
  {
   "cell_type": "markdown",
   "id": "26df1533-792a-404a-93ff-d24e8893e150",
   "metadata": {},
   "source": [
    "WHICH COURSES HAVE HIGHER NUMBER OF SUBSCRIBERS (FREE OR PAID)"
   ]
  },
  {
   "cell_type": "code",
   "execution_count": 85,
   "id": "44dc64d4-54d6-4448-b91e-a05accc35827",
   "metadata": {},
   "outputs": [
    {
     "data": {
      "text/plain": [
       "Index(['course_id', 'course_title', 'is_paid', 'price', 'num_subscribers',\n",
       "       'num_reviews', 'num_lectures', 'level', 'content_duration',\n",
       "       'published_timestamp', 'subject'],\n",
       "      dtype='object')"
      ]
     },
     "execution_count": 85,
     "metadata": {},
     "output_type": "execute_result"
    }
   ],
   "source": [
    "data.columns"
   ]
  },
  {
   "cell_type": "code",
   "execution_count": 86,
   "id": "bf7b3248-31a0-4f9f-b145-9e09f3770ba2",
   "metadata": {},
   "outputs": [
    {
     "data": {
      "text/plain": [
       "<Axes: xlabel='is_paid', ylabel='num_subscribers'>"
      ]
     },
     "execution_count": 86,
     "metadata": {},
     "output_type": "execute_result"
    },
    {
     "data": {
      "image/png": "[encoded data removed]",
      "text/plain": [
       "<Figure size 640x480 with 1 Axes>"
      ]
     },
     "metadata": {},
     "output_type": "display_data"
    }
   ],
   "source": [
    "sns.barplot(x=\"is_paid\",y=\"num_subscribers\",data=data)"
   ]
  },
  {
   "cell_type": "markdown",
   "id": "58400be9-5f94-4636-9e44-9c3a3ffeb231",
   "metadata": {},
   "source": [
    "CONCLUSION: Free courses have higher number of subscribers"
   ]
  },
  {
   "cell_type": "markdown",
   "id": "835d1505-5140-4f21-881a-32b15e4a6f33",
   "metadata": {},
   "source": [
    "LEVEL HAVING HIGHEST SUBSRIBERS"
   ]
  },
  {
   "cell_type": "code",
   "execution_count": 87,
   "id": "6dd05beb-ebc2-4126-9f3a-22eae08d6c77",
   "metadata": {},
   "outputs": [
    {
     "data": {
      "text/plain": [
       "<Axes: xlabel='level', ylabel='num_subscribers'>"
      ]
     },
     "execution_count": 87,
     "metadata": {},
     "output_type": "execute_result"
    },
    {
     "data": {
      "image/png": "[encoded data removed]",
      "text/plain": [
       "<Figure size 640x480 with 1 Axes>"
      ]
     },
     "metadata": {},
     "output_type": "display_data"
    }
   ],
   "source": [
    "sns.barplot(x=\"level\",y=\"num_subscribers\",data=data)"
   ]
  },
  {
   "cell_type": "markdown",
   "id": "d54b019a-955f-462d-ba60-03ccdc9f80f6",
   "metadata": {},
   "source": [
    "CONCLUSION: Beginner levels have highest number of subscribers"
   ]
  },
  {
   "cell_type": "markdown",
   "id": "5b426828-cf8a-49e2-b51d-367fcf61537b",
   "metadata": {},
   "source": [
    "MOST POPULAR COURSE TITLE"
   ]
  },
  {
   "cell_type": "code",
   "execution_count": 89,
   "id": "e854535c-910e-4fc5-983e-12c4c41e81bc",
   "metadata": {},
   "outputs": [
    {
     "data": {
      "text/plain": [
       "2230    Learn HTML5 Programming From Scratch\n",
       "Name: course_title, dtype: object"
      ]
     },
     "execution_count": 89,
     "metadata": {},
     "output_type": "execute_result"
    }
   ],
   "source": [
    "data[data['num_subscribers'].max()==data['num_subscribers']]['course_title']"
   ]
  },
  {
   "cell_type": "markdown",
   "id": "b52357e4-10be-4b8e-848e-7db31e59c4a1",
   "metadata": {},
   "source": [
    "10 MOST POPULAR COURSES AS PER NUMBER OF SUBSCRIBERS"
   ]
  },
  {
   "cell_type": "code",
   "execution_count": 94,
   "id": "d9550567-ffef-4b9d-9450-afbd65d570fd",
   "metadata": {},
   "outputs": [],
   "source": [
    "top_10=data.sort_values(by=\"num_subscribers\",ascending=False).head(10)"
   ]
  },
  {
   "cell_type": "code",
   "execution_count": 95,
   "id": "780a57a1-8fac-4f37-b9a9-6dcf25138835",
   "metadata": {},
   "outputs": [
    {
     "data": {
      "text/html": [
       "<div>\n",
       "<style scoped>\n",
       "    .dataframe tbody tr th:only-of-type {\n",
       "        vertical-align: middle;\n",
       "    }\n",
       "\n",
       "    .dataframe tbody tr th {\n",
       "        vertical-align: top;\n",
       "    }\n",
       "\n",
       "    .dataframe thead th {\n",
       "        text-align: right;\n",
       "    }\n",
       "</style>\n",
       "<table border=\"1\" class=\"dataframe\">\n",
       "  <thead>\n",
       "    <tr style=\"text-align: right;\">\n",
       "      <th></th>\n",
       "      <th>course_id</th>\n",
       "      <th>course_title</th>\n",
       "      <th>is_paid</th>\n",
       "      <th>price</th>\n",
       "      <th>num_subscribers</th>\n",
       "      <th>num_reviews</th>\n",
       "      <th>num_lectures</th>\n",
       "      <th>level</th>\n",
       "      <th>content_duration</th>\n",
       "      <th>published_timestamp</th>\n",
       "      <th>subject</th>\n",
       "    </tr>\n",
       "  </thead>\n",
       "  <tbody>\n",
       "    <tr>\n",
       "      <th>2230</th>\n",
       "      <td>41295</td>\n",
       "      <td>Learn HTML5 Programming From Scratch</td>\n",
       "      <td>False</td>\n",
       "      <td>Free</td>\n",
       "      <td>268923</td>\n",
       "      <td>8629</td>\n",
       "      <td>45</td>\n",
       "      <td>All Levels</td>\n",
       "      <td>10.5 hours</td>\n",
       "      <td>2013-02-14 07:03:41+00:00</td>\n",
       "      <td>Web Development</td>\n",
       "    </tr>\n",
       "    <tr>\n",
       "      <th>776</th>\n",
       "      <td>59014</td>\n",
       "      <td>Coding for Entrepreneurs Basic</td>\n",
       "      <td>False</td>\n",
       "      <td>Free</td>\n",
       "      <td>161029</td>\n",
       "      <td>279</td>\n",
       "      <td>27</td>\n",
       "      <td>Beginner Level</td>\n",
       "      <td>3.5 hours</td>\n",
       "      <td>2013-06-09 15:51:55+00:00</td>\n",
       "      <td>Web Development</td>\n",
       "    </tr>\n",
       "    <tr>\n",
       "      <th>3385</th>\n",
       "      <td>625204</td>\n",
       "      <td>The Web Developer Bootcamp</td>\n",
       "      <td>True</td>\n",
       "      <td>200</td>\n",
       "      <td>121584</td>\n",
       "      <td>27445</td>\n",
       "      <td>342</td>\n",
       "      <td>All Levels</td>\n",
       "      <td>43 hours</td>\n",
       "      <td>2015-11-02 21:13:27+00:00</td>\n",
       "      <td>Web Development</td>\n",
       "    </tr>\n",
       "    <tr>\n",
       "      <th>640</th>\n",
       "      <td>173548</td>\n",
       "      <td>Build Your First Website in 1 Week with HTML5 ...</td>\n",
       "      <td>False</td>\n",
       "      <td>Free</td>\n",
       "      <td>120291</td>\n",
       "      <td>5924</td>\n",
       "      <td>30</td>\n",
       "      <td>Beginner Level</td>\n",
       "      <td>3 hours</td>\n",
       "      <td>2014-04-08 16:21:30+00:00</td>\n",
       "      <td>Web Development</td>\n",
       "    </tr>\n",
       "    <tr>\n",
       "      <th>3316</th>\n",
       "      <td>764164</td>\n",
       "      <td>The Complete Web Developer Course 2.0</td>\n",
       "      <td>True</td>\n",
       "      <td>200</td>\n",
       "      <td>114512</td>\n",
       "      <td>22412</td>\n",
       "      <td>304</td>\n",
       "      <td>All Levels</td>\n",
       "      <td>30.5 hours</td>\n",
       "      <td>2016-03-08 22:28:36+00:00</td>\n",
       "      <td>Web Development</td>\n",
       "    </tr>\n",
       "    <tr>\n",
       "      <th>1388</th>\n",
       "      <td>19421</td>\n",
       "      <td>Free Beginner Electric Guitar Lessons</td>\n",
       "      <td>False</td>\n",
       "      <td>Free</td>\n",
       "      <td>101154</td>\n",
       "      <td>1042</td>\n",
       "      <td>95</td>\n",
       "      <td>Beginner Level</td>\n",
       "      <td>4.5 hours</td>\n",
       "      <td>2012-06-15 17:00:33+00:00</td>\n",
       "      <td>Musical Instruments</td>\n",
       "    </tr>\n",
       "    <tr>\n",
       "      <th>3556</th>\n",
       "      <td>473160</td>\n",
       "      <td>Web Design for Web Developers: Build Beautiful...</td>\n",
       "      <td>False</td>\n",
       "      <td>Free</td>\n",
       "      <td>98867</td>\n",
       "      <td>6512</td>\n",
       "      <td>20</td>\n",
       "      <td>All Levels</td>\n",
       "      <td>3 hours</td>\n",
       "      <td>2015-04-13 18:29:47+00:00</td>\n",
       "      <td>Web Development</td>\n",
       "    </tr>\n",
       "    <tr>\n",
       "      <th>2233</th>\n",
       "      <td>94430</td>\n",
       "      <td>Learn Javascript &amp; JQuery From Scratch</td>\n",
       "      <td>True</td>\n",
       "      <td>30</td>\n",
       "      <td>84897</td>\n",
       "      <td>2685</td>\n",
       "      <td>10</td>\n",
       "      <td>All Levels</td>\n",
       "      <td>2 hours</td>\n",
       "      <td>2013-10-10 15:19:29+00:00</td>\n",
       "      <td>Web Development</td>\n",
       "    </tr>\n",
       "    <tr>\n",
       "      <th>2886</th>\n",
       "      <td>130064</td>\n",
       "      <td>Practical PHP: Master the Basics and Code Dyna...</td>\n",
       "      <td>False</td>\n",
       "      <td>Free</td>\n",
       "      <td>83737</td>\n",
       "      <td>4598</td>\n",
       "      <td>45</td>\n",
       "      <td>All Levels</td>\n",
       "      <td>6.5 hours</td>\n",
       "      <td>2014-07-19 03:02:05+00:00</td>\n",
       "      <td>Web Development</td>\n",
       "    </tr>\n",
       "    <tr>\n",
       "      <th>2034</th>\n",
       "      <td>364426</td>\n",
       "      <td>JavaScript: Understanding the Weird Parts</td>\n",
       "      <td>True</td>\n",
       "      <td>175</td>\n",
       "      <td>79612</td>\n",
       "      <td>16976</td>\n",
       "      <td>85</td>\n",
       "      <td>All Levels</td>\n",
       "      <td>11.5 hours</td>\n",
       "      <td>2015-03-12 23:19:54+00:00</td>\n",
       "      <td>Web Development</td>\n",
       "    </tr>\n",
       "  </tbody>\n",
       "</table>\n",
       "</div>"
      ],
      "text/plain": [
       "      course_id                                       course_title  is_paid  \\\n",
       "2230      41295               Learn HTML5 Programming From Scratch    False   \n",
       "776       59014                     Coding for Entrepreneurs Basic    False   \n",
       "3385     625204                         The Web Developer Bootcamp     True   \n",
       "640      173548  Build Your First Website in 1 Week with HTML5 ...    False   \n",
       "3316     764164              The Complete Web Developer Course 2.0     True   \n",
       "1388      19421              Free Beginner Electric Guitar Lessons    False   \n",
       "3556     473160  Web Design for Web Developers: Build Beautiful...    False   \n",
       "2233      94430             Learn Javascript & JQuery From Scratch     True   \n",
       "2886     130064  Practical PHP: Master the Basics and Code Dyna...    False   \n",
       "2034     364426          JavaScript: Understanding the Weird Parts     True   \n",
       "\n",
       "     price  num_subscribers  num_reviews  num_lectures           level  \\\n",
       "2230  Free           268923         8629            45      All Levels   \n",
       "776   Free           161029          279            27  Beginner Level   \n",
       "3385   200           121584        27445           342      All Levels   \n",
       "640   Free           120291         5924            30  Beginner Level   \n",
       "3316   200           114512        22412           304      All Levels   \n",
       "1388  Free           101154         1042            95  Beginner Level   \n",
       "3556  Free            98867         6512            20      All Levels   \n",
       "2233    30            84897         2685            10      All Levels   \n",
       "2886  Free            83737         4598            45      All Levels   \n",
       "2034   175            79612        16976            85      All Levels   \n",
       "\n",
       "     content_duration       published_timestamp              subject  \n",
       "2230       10.5 hours 2013-02-14 07:03:41+00:00      Web Development  \n",
       "776         3.5 hours 2013-06-09 15:51:55+00:00      Web Development  \n",
       "3385         43 hours 2015-11-02 21:13:27+00:00      Web Development  \n",
       "640           3 hours 2014-04-08 16:21:30+00:00      Web Development  \n",
       "3316       30.5 hours 2016-03-08 22:28:36+00:00      Web Development  \n",
       "1388        4.5 hours 2012-06-15 17:00:33+00:00  Musical Instruments  \n",
       "3556          3 hours 2015-04-13 18:29:47+00:00      Web Development  \n",
       "2233          2 hours 2013-10-10 15:19:29+00:00      Web Development  \n",
       "2886        6.5 hours 2014-07-19 03:02:05+00:00      Web Development  \n",
       "2034       11.5 hours 2015-03-12 23:19:54+00:00      Web Development  "
      ]
     },
     "execution_count": 95,
     "metadata": {},
     "output_type": "execute_result"
    }
   ],
   "source": [
    "top_10"
   ]
  },
  {
   "cell_type": "code",
   "execution_count": 96,
   "id": "aef0f1e2-f45e-4ae2-b8e6-887ada1409aa",
   "metadata": {},
   "outputs": [
    {
     "data": {
      "text/plain": [
       "Index(['course_id', 'course_title', 'is_paid', 'price', 'num_subscribers',\n",
       "       'num_reviews', 'num_lectures', 'level', 'content_duration',\n",
       "       'published_timestamp', 'subject'],\n",
       "      dtype='object')"
      ]
     },
     "execution_count": 96,
     "metadata": {},
     "output_type": "execute_result"
    }
   ],
   "source": [
    "data.columns"
   ]
  },
  {
   "cell_type": "code",
   "execution_count": 97,
   "id": "795a2fcf-cb48-4d5e-9573-5f40c7ece527",
   "metadata": {},
   "outputs": [
    {
     "data": {
      "text/plain": [
       "<Axes: xlabel='num_subscribers', ylabel='course_title'>"
      ]
     },
     "execution_count": 97,
     "metadata": {},
     "output_type": "execute_result"
    },
    {
     "data": {
      "image/png": "[encoded data removed]",
      "text/plain": [
       "<Figure size 640x480 with 1 Axes>"
      ]
     },
     "metadata": {},
     "output_type": "display_data"
    }
   ],
   "source": [
    "sns.barplot(x=\"num_subscribers\",y=\"course_title\",data=top_10)"
   ]
  },
  {
   "cell_type": "markdown",
   "id": "7ecf5058-1eda-460e-812b-08cf628fa96d",
   "metadata": {},
   "source": [
    "CONCLUSION: HTML Programming from scratch is the most popular course title"
   ]
  },
  {
   "cell_type": "markdown",
   "id": "e3e79ef6-858d-49b8-8fa6-b9d904e2c13c",
   "metadata": {},
   "source": [
    "COURSE WITH HIGHEST REVIEWS"
   ]
  },
  {
   "cell_type": "code",
   "execution_count": 99,
   "id": "8e79d7cd-4d97-4e08-be71-8cf61b7cf59f",
   "metadata": {},
   "outputs": [
    {
     "data": {
      "text/plain": [
       "Index(['course_id', 'course_title', 'is_paid', 'price', 'num_subscribers',\n",
       "       'num_reviews', 'num_lectures', 'level', 'content_duration',\n",
       "       'published_timestamp', 'subject'],\n",
       "      dtype='object')"
      ]
     },
     "execution_count": 99,
     "metadata": {},
     "output_type": "execute_result"
    }
   ],
   "source": [
    "data.columns"
   ]
  },
  {
   "cell_type": "code",
   "execution_count": 100,
   "id": "64473d11-4da8-41f1-b7a1-64a51ecf6037",
   "metadata": {},
   "outputs": [
    {
     "data": {
      "text/plain": [
       "<Axes: xlabel='subject', ylabel='num_reviews'>"
      ]
     },
     "execution_count": 100,
     "metadata": {},
     "output_type": "execute_result"
    },
    {
     "data": {
      "image/png": "[encoded data removed]",
      "text/plain": [
       "<Figure size 640x480 with 1 Axes>"
      ]
     },
     "metadata": {},
     "output_type": "display_data"
    }
   ],
   "source": [
    "sns.barplot(x=\"subject\",y=\"num_reviews\",data=data)"
   ]
  },
  {
   "cell_type": "markdown",
   "id": "991aab09-0488-4d84-a514-4e2e288de12c",
   "metadata": {},
   "source": [
    "CONCLUSION: Web Development has the highest reviews"
   ]
  },
  {
   "cell_type": "markdown",
   "id": "625252b4-2ee4-4dd5-ae2c-94f68fdb64c3",
   "metadata": {},
   "source": [
    "DOES PRICE AFFECT NUMBER OF REVIEWS?"
   ]
  },
  {
   "cell_type": "code",
   "execution_count": 101,
   "id": "2c05f839-7e67-4818-a4c2-bb3a1b7ddc93",
   "metadata": {},
   "outputs": [
    {
     "data": {
      "text/plain": [
       "Index(['course_id', 'course_title', 'is_paid', 'price', 'num_subscribers',\n",
       "       'num_reviews', 'num_lectures', 'level', 'content_duration',\n",
       "       'published_timestamp', 'subject'],\n",
       "      dtype='object')"
      ]
     },
     "execution_count": 101,
     "metadata": {},
     "output_type": "execute_result"
    }
   ],
   "source": [
    "data.columns"
   ]
  },
  {
   "cell_type": "code",
   "execution_count": 105,
   "id": "119e8413-fa17-466e-b450-6d1bb8cd3b1d",
   "metadata": {},
   "outputs": [
    {
     "data": {
      "text/plain": [
       "<Axes: xlabel='price', ylabel='num_reviews'>"
      ]
     },
     "execution_count": 105,
     "metadata": {},
     "output_type": "execute_result"
    },
    {
     "data": {
      "image/png": "[encoded data removed]",
      "text/plain": [
       "<Figure size 1500x600 with 1 Axes>"
      ]
     },
     "metadata": {},
     "output_type": "display_data"
    }
   ],
   "source": [
    "plt.figure(figsize=(15,6))\n",
    "sns.scatterplot(x=\"price\",y=\"num_reviews\",data=data)"
   ]
  },
  {
   "cell_type": "markdown",
   "id": "32701e42-ae5c-4239-a226-762f643fa940",
   "metadata": {},
   "source": [
    "CONCLUSION: Reviews depends on prices. Lower the prices, higher the reviews"
   ]
  },
  {
   "cell_type": "markdown",
   "id": "b4849528-a67d-4b7f-92eb-9c48a393f7ac",
   "metadata": {},
   "source": [
    "TOTAL NUMBER OF PYTHON COURSES"
   ]
  },
  {
   "cell_type": "code",
   "execution_count": 107,
   "id": "9511286a-3950-41cf-8502-f1d4529c2216",
   "metadata": {},
   "outputs": [
    {
     "data": {
      "text/plain": [
       "29"
      ]
     },
     "execution_count": 107,
     "metadata": {},
     "output_type": "execute_result"
    }
   ],
   "source": [
    "len(data[data['course_title'].str.contains('python',case=False)])"
   ]
  },
  {
   "cell_type": "markdown",
   "id": "4239a25d-cd0b-408f-8eb8-c8c0d8a8df20",
   "metadata": {},
   "source": [
    "CATEGORY-WISE COUNT OF POSTED SUBJECTS(YEAR-WISE)"
   ]
  },
  {
   "cell_type": "code",
   "execution_count": 117,
   "id": "11951639-467a-4dc4-9d4b-00a9625ca9e1",
   "metadata": {},
   "outputs": [
    {
     "data": {
      "text/plain": [
       "year  subject            \n",
       "2011  Web Development          5\n",
       "2012  Web Development         19\n",
       "      Musical Instruments     10\n",
       "      Graphic Design          10\n",
       "      Business Finance         6\n",
       "2013  Business Finance        84\n",
       "      Web Development         55\n",
       "      Musical Instruments     39\n",
       "      Graphic Design          23\n",
       "2014  Business Finance       192\n",
       "      Musical Instruments    120\n",
       "      Web Development        113\n",
       "      Graphic Design          65\n",
       "2015  Business Finance       339\n",
       "      Web Development        336\n",
       "      Musical Instruments    171\n",
       "      Graphic Design         168\n",
       "2016  Web Development        448\n",
       "      Business Finance       347\n",
       "      Musical Instruments    228\n",
       "      Graphic Design         181\n",
       "2017  Business Finance       227\n",
       "      Web Development        223\n",
       "      Graphic Design         155\n",
       "      Musical Instruments    112\n",
       "Name: count, dtype: int64"
      ]
     },
     "execution_count": 117,
     "metadata": {},
     "output_type": "execute_result"
    }
   ],
   "source": [
    "data.groupby('year')['subject'].value_counts()"
   ]
  },
  {
   "cell_type": "code",
   "execution_count": null,
   "id": "70892b69-0bdd-42dd-b260-82becd7ca251",
   "metadata": {},
   "outputs": [],
   "source": []
  }
 ],
 "metadata": {
  "kernelspec": {
   "display_name": "Python 3 (ipykernel)",
   "language": "python",
   "name": "python3"
  },
  "language_info": {
   "codemirror_mode": {
    "name": "ipython",
    "version": 3
   },
   "file_extension": ".py",
   "mimetype": "text/x-python",
   "name": "python",
   "nbconvert_exporter": "python",
   "pygments_lexer": "ipython3",
   "version": "3.11.0"
  }
 },
 "nbformat": 4,
 "nbformat_minor": 5
}
